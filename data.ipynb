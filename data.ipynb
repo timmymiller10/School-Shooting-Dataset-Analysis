{
 "cells": [
  {
   "cell_type": "markdown",
   "metadata": {},
   "source": [
    "## Intro"
   ]
  },
  {
   "cell_type": "code",
   "execution_count": 2,
   "metadata": {},
   "outputs": [],
   "source": [
    "import pandas as pd\n",
    "import numpy as np\n",
    "import os"
   ]
  },
  {
   "cell_type": "code",
   "execution_count": 3,
   "metadata": {},
   "outputs": [],
   "source": [
    "os.chdir('/Users/timothymiller/Desktop/Dataset-SS')"
   ]
  },
  {
   "cell_type": "code",
   "execution_count": 4,
   "metadata": {},
   "outputs": [],
   "source": [
    "# excel file of 4 sheets\n",
    "file = pd.ExcelFile('schoolshootingdatabase.xlsx')"
   ]
  },
  {
   "cell_type": "code",
   "execution_count": 5,
   "metadata": {},
   "outputs": [],
   "source": [
    "all_sheets = file.sheet_names # gets list of all sheet names\n",
    "dfs = {sheet: file.parse(sheet) for sheet in all_sheets} # dictionary of dataframes for each sheet"
   ]
  },
  {
   "cell_type": "code",
   "execution_count": 7,
   "metadata": {},
   "outputs": [
    {
     "name": "stdout",
     "output_type": "stream",
     "text": [
      "Cover\n",
      "Incident\n",
      "Shooter\n",
      "Victim\n",
      "Weapon\n"
     ]
    }
   ],
   "source": [
    "for sheetname in all_sheets:\n",
    "    print(sheetname)"
   ]
  },
  {
   "cell_type": "code",
   "execution_count": 8,
   "metadata": {},
   "outputs": [],
   "source": [
    "incident = dfs['Incident']\n",
    "shooter = dfs['Shooter']\n",
    "victim = dfs['Victim']\n",
    "weapon = dfs['Weapon']"
   ]
  },
  {
   "cell_type": "markdown",
   "metadata": {},
   "source": [
    "## Incident Dataset"
   ]
  },
  {
   "cell_type": "code",
   "execution_count": 9,
   "metadata": {},
   "outputs": [
    {
     "data": {
      "text/html": [
       "<div>\n",
       "<style scoped>\n",
       "    .dataframe tbody tr th:only-of-type {\n",
       "        vertical-align: middle;\n",
       "    }\n",
       "\n",
       "    .dataframe tbody tr th {\n",
       "        vertical-align: top;\n",
       "    }\n",
       "\n",
       "    .dataframe thead th {\n",
       "        text-align: right;\n",
       "    }\n",
       "</style>\n",
       "<table border=\"1\" class=\"dataframe\">\n",
       "  <thead>\n",
       "    <tr style=\"text-align: right;\">\n",
       "      <th></th>\n",
       "      <th>Incident_ID</th>\n",
       "      <th>Month</th>\n",
       "      <th>Day</th>\n",
       "      <th>Year</th>\n",
       "      <th>Date</th>\n",
       "      <th>School</th>\n",
       "      <th>Victims_Killed</th>\n",
       "      <th>Victims_Wounded</th>\n",
       "      <th>Number_Victims</th>\n",
       "      <th>Shooter_Killed</th>\n",
       "      <th>...</th>\n",
       "      <th>Situation</th>\n",
       "      <th>Targets</th>\n",
       "      <th>Accomplice</th>\n",
       "      <th>Hostages</th>\n",
       "      <th>Barricade</th>\n",
       "      <th>Officer_Involved</th>\n",
       "      <th>Bullied</th>\n",
       "      <th>Domestic_Violence</th>\n",
       "      <th>Gang_Related</th>\n",
       "      <th>Active_Shooter_FBI</th>\n",
       "    </tr>\n",
       "  </thead>\n",
       "  <tbody>\n",
       "    <tr>\n",
       "      <th>0</th>\n",
       "      <td>20230329GANED</td>\n",
       "      <td>3</td>\n",
       "      <td>29</td>\n",
       "      <td>2023</td>\n",
       "      <td>2023-03-29</td>\n",
       "      <td>New Manchester High School</td>\n",
       "      <td>0</td>\n",
       "      <td>0</td>\n",
       "      <td>0</td>\n",
       "      <td>1</td>\n",
       "      <td>...</td>\n",
       "      <td>NaN</td>\n",
       "      <td>Neither</td>\n",
       "      <td>No</td>\n",
       "      <td>No</td>\n",
       "      <td>No</td>\n",
       "      <td>No</td>\n",
       "      <td>No</td>\n",
       "      <td>No</td>\n",
       "      <td>No</td>\n",
       "      <td>No</td>\n",
       "    </tr>\n",
       "    <tr>\n",
       "      <th>1</th>\n",
       "      <td>20230327TNCON</td>\n",
       "      <td>3</td>\n",
       "      <td>27</td>\n",
       "      <td>2023</td>\n",
       "      <td>2023-03-27</td>\n",
       "      <td>Covenant School</td>\n",
       "      <td>6</td>\n",
       "      <td>1</td>\n",
       "      <td>7</td>\n",
       "      <td>1</td>\n",
       "      <td>...</td>\n",
       "      <td>Indiscriminate Shooting</td>\n",
       "      <td>Random Shooting</td>\n",
       "      <td>No</td>\n",
       "      <td>No</td>\n",
       "      <td>No</td>\n",
       "      <td>No</td>\n",
       "      <td>NaN</td>\n",
       "      <td>No</td>\n",
       "      <td>No</td>\n",
       "      <td>Yes</td>\n",
       "    </tr>\n",
       "    <tr>\n",
       "      <th>2</th>\n",
       "      <td>20230324INNOM</td>\n",
       "      <td>3</td>\n",
       "      <td>24</td>\n",
       "      <td>2023</td>\n",
       "      <td>2023-03-24</td>\n",
       "      <td>Northridge Middle School</td>\n",
       "      <td>0</td>\n",
       "      <td>0</td>\n",
       "      <td>0</td>\n",
       "      <td>1</td>\n",
       "      <td>...</td>\n",
       "      <td>Suicide/Attempted</td>\n",
       "      <td>Victims Targeted</td>\n",
       "      <td>No</td>\n",
       "      <td>No</td>\n",
       "      <td>No</td>\n",
       "      <td>No</td>\n",
       "      <td>No</td>\n",
       "      <td>No</td>\n",
       "      <td>No</td>\n",
       "      <td>No</td>\n",
       "    </tr>\n",
       "    <tr>\n",
       "      <th>3</th>\n",
       "      <td>20230324NJTHM</td>\n",
       "      <td>3</td>\n",
       "      <td>24</td>\n",
       "      <td>2023</td>\n",
       "      <td>2023-03-24</td>\n",
       "      <td>Thunderbolt Academy</td>\n",
       "      <td>0</td>\n",
       "      <td>0</td>\n",
       "      <td>0</td>\n",
       "      <td>0</td>\n",
       "      <td>...</td>\n",
       "      <td>NaN</td>\n",
       "      <td>Victims Targeted</td>\n",
       "      <td>No</td>\n",
       "      <td>No</td>\n",
       "      <td>No</td>\n",
       "      <td>No</td>\n",
       "      <td>No</td>\n",
       "      <td>No</td>\n",
       "      <td>NaN</td>\n",
       "      <td>No</td>\n",
       "    </tr>\n",
       "    <tr>\n",
       "      <th>4</th>\n",
       "      <td>20230322ALANA</td>\n",
       "      <td>3</td>\n",
       "      <td>22</td>\n",
       "      <td>2023</td>\n",
       "      <td>2023-03-22</td>\n",
       "      <td>Anniston High School</td>\n",
       "      <td>0</td>\n",
       "      <td>1</td>\n",
       "      <td>1</td>\n",
       "      <td>0</td>\n",
       "      <td>...</td>\n",
       "      <td>Accidental</td>\n",
       "      <td>Neither</td>\n",
       "      <td>No</td>\n",
       "      <td>No</td>\n",
       "      <td>No</td>\n",
       "      <td>No</td>\n",
       "      <td>No</td>\n",
       "      <td>No</td>\n",
       "      <td>No</td>\n",
       "      <td>No</td>\n",
       "    </tr>\n",
       "  </tbody>\n",
       "</table>\n",
       "<p>5 rows × 36 columns</p>\n",
       "</div>"
      ],
      "text/plain": [
       "     Incident_ID  Month  Day  Year       Date                      School  \\\n",
       "0  20230329GANED      3   29  2023 2023-03-29  New Manchester High School   \n",
       "1  20230327TNCON      3   27  2023 2023-03-27             Covenant School   \n",
       "2  20230324INNOM      3   24  2023 2023-03-24    Northridge Middle School   \n",
       "3  20230324NJTHM      3   24  2023 2023-03-24         Thunderbolt Academy   \n",
       "4  20230322ALANA      3   22  2023 2023-03-22        Anniston High School   \n",
       "\n",
       "   Victims_Killed  Victims_Wounded  Number_Victims  Shooter_Killed  ...  \\\n",
       "0               0                0               0               1  ...   \n",
       "1               6                1               7               1  ...   \n",
       "2               0                0               0               1  ...   \n",
       "3               0                0               0               0  ...   \n",
       "4               0                1               1               0  ...   \n",
       "\n",
       "                 Situation           Targets Accomplice  Hostages Barricade  \\\n",
       "0                      NaN           Neither         No        No        No   \n",
       "1  Indiscriminate Shooting   Random Shooting         No        No        No   \n",
       "2        Suicide/Attempted  Victims Targeted         No        No        No   \n",
       "3                      NaN  Victims Targeted         No        No        No   \n",
       "4               Accidental           Neither         No        No        No   \n",
       "\n",
       "  Officer_Involved Bullied Domestic_Violence Gang_Related Active_Shooter_FBI  \n",
       "0               No      No                No           No                 No  \n",
       "1               No     NaN                No           No                Yes  \n",
       "2               No      No                No           No                 No  \n",
       "3               No      No                No          NaN                 No  \n",
       "4               No      No                No           No                 No  \n",
       "\n",
       "[5 rows x 36 columns]"
      ]
     },
     "execution_count": 9,
     "metadata": {},
     "output_type": "execute_result"
    }
   ],
   "source": [
    "incident.head()"
   ]
  },
  {
   "cell_type": "code",
   "execution_count": null,
   "metadata": {},
   "outputs": [],
   "source": []
  }
 ],
 "metadata": {
  "kernelspec": {
   "display_name": "Python 3.9.13 ('base')",
   "language": "python",
   "name": "python3"
  },
  "language_info": {
   "codemirror_mode": {
    "name": "ipython",
    "version": 3
   },
   "file_extension": ".py",
   "mimetype": "text/x-python",
   "name": "python",
   "nbconvert_exporter": "python",
   "pygments_lexer": "ipython3",
   "version": "3.9.13"
  },
  "orig_nbformat": 4,
  "vscode": {
   "interpreter": {
    "hash": "cd78fef2128015050713e82ca51c6520b11aee7c9ee8df750520bbbc7384cbaa"
   }
  }
 },
 "nbformat": 4,
 "nbformat_minor": 2
}
